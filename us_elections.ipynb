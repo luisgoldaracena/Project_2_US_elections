{
 "cells": [
  {
   "cell_type": "code",
   "execution_count": 223,
   "metadata": {},
   "outputs": [],
   "source": [
    "import pandas as pd\n",
    "from sqlalchemy import create_engine"
   ]
  },
  {
   "cell_type": "code",
   "execution_count": 224,
   "metadata": {},
   "outputs": [],
   "source": [
    "path_2012='Resources/2012_US_elect_county.csv'\n",
    "path_2016='Resources/2016-president.csv'"
   ]
  },
  {
   "cell_type": "code",
   "execution_count": 225,
   "metadata": {},
   "outputs": [],
   "source": [
    "df1=pd.read_csv(path_2012, error_bad_lines=False)\n",
    "df2=pd.read_csv(path_2016, error_bad_lines=False)"
   ]
  },
  {
   "cell_type": "code",
   "execution_count": 226,
   "metadata": {},
   "outputs": [
    {
     "output_type": "execute_result",
     "data": {
      "text/plain": [
       "     State Postal County Name     FIPS  Obama vote      %  Romney vote    %.1\n",
       "0              AK      Alaska      0.0     91696.0  41.60     121234.0  55.00\n",
       "1              AK      Alaska   2000.0     91696.0  41.60     121234.0  55.00\n",
       "2              AL     Alabama      0.0    793620.0  38.40    1252453.0  60.70\n",
       "3              AL     Autauga   1001.0      6354.0  26.60      17366.0  72.60\n",
       "4              AL     Baldwin   1003.0     18329.0  21.60      65772.0  77.40\n",
       "...           ...         ...      ...         ...    ...          ...    ...\n",
       "4069           WV     Webster  54101.0       939.0  34.20       1708.0  62.20\n",
       "4070           WV      Wetzel  54103.0      2194.0  37.80       3449.0  59.40\n",
       "4071           WV        Wirt  54105.0       673.0  31.10       1422.0  65.70\n",
       "4072           WV        Wood  54107.0     11067.0  32.90      21980.0  65.40\n",
       "4073           WV     Wyoming  54109.0      1575.0  21.00       5751.0  76.70\n",
       "\n",
       "[4074 rows x 7 columns]"
      ],
      "text/html": "<div>\n<style scoped>\n    .dataframe tbody tr th:only-of-type {\n        vertical-align: middle;\n    }\n\n    .dataframe tbody tr th {\n        vertical-align: top;\n    }\n\n    .dataframe thead th {\n        text-align: right;\n    }\n</style>\n<table border=\"1\" class=\"dataframe\">\n  <thead>\n    <tr style=\"text-align: right;\">\n      <th></th>\n      <th>State Postal</th>\n      <th>County Name</th>\n      <th>FIPS</th>\n      <th>Obama vote</th>\n      <th>%</th>\n      <th>Romney vote</th>\n      <th>%.1</th>\n    </tr>\n  </thead>\n  <tbody>\n    <tr>\n      <th>0</th>\n      <td>AK</td>\n      <td>Alaska</td>\n      <td>0.0</td>\n      <td>91696.0</td>\n      <td>41.60</td>\n      <td>121234.0</td>\n      <td>55.00</td>\n    </tr>\n    <tr>\n      <th>1</th>\n      <td>AK</td>\n      <td>Alaska</td>\n      <td>2000.0</td>\n      <td>91696.0</td>\n      <td>41.60</td>\n      <td>121234.0</td>\n      <td>55.00</td>\n    </tr>\n    <tr>\n      <th>2</th>\n      <td>AL</td>\n      <td>Alabama</td>\n      <td>0.0</td>\n      <td>793620.0</td>\n      <td>38.40</td>\n      <td>1252453.0</td>\n      <td>60.70</td>\n    </tr>\n    <tr>\n      <th>3</th>\n      <td>AL</td>\n      <td>Autauga</td>\n      <td>1001.0</td>\n      <td>6354.0</td>\n      <td>26.60</td>\n      <td>17366.0</td>\n      <td>72.60</td>\n    </tr>\n    <tr>\n      <th>4</th>\n      <td>AL</td>\n      <td>Baldwin</td>\n      <td>1003.0</td>\n      <td>18329.0</td>\n      <td>21.60</td>\n      <td>65772.0</td>\n      <td>77.40</td>\n    </tr>\n    <tr>\n      <th>...</th>\n      <td>...</td>\n      <td>...</td>\n      <td>...</td>\n      <td>...</td>\n      <td>...</td>\n      <td>...</td>\n      <td>...</td>\n    </tr>\n    <tr>\n      <th>4069</th>\n      <td>WV</td>\n      <td>Webster</td>\n      <td>54101.0</td>\n      <td>939.0</td>\n      <td>34.20</td>\n      <td>1708.0</td>\n      <td>62.20</td>\n    </tr>\n    <tr>\n      <th>4070</th>\n      <td>WV</td>\n      <td>Wetzel</td>\n      <td>54103.0</td>\n      <td>2194.0</td>\n      <td>37.80</td>\n      <td>3449.0</td>\n      <td>59.40</td>\n    </tr>\n    <tr>\n      <th>4071</th>\n      <td>WV</td>\n      <td>Wirt</td>\n      <td>54105.0</td>\n      <td>673.0</td>\n      <td>31.10</td>\n      <td>1422.0</td>\n      <td>65.70</td>\n    </tr>\n    <tr>\n      <th>4072</th>\n      <td>WV</td>\n      <td>Wood</td>\n      <td>54107.0</td>\n      <td>11067.0</td>\n      <td>32.90</td>\n      <td>21980.0</td>\n      <td>65.40</td>\n    </tr>\n    <tr>\n      <th>4073</th>\n      <td>WV</td>\n      <td>Wyoming</td>\n      <td>54109.0</td>\n      <td>1575.0</td>\n      <td>21.00</td>\n      <td>5751.0</td>\n      <td>76.70</td>\n    </tr>\n  </tbody>\n</table>\n<p>4074 rows × 7 columns</p>\n</div>"
     },
     "metadata": {},
     "execution_count": 226
    }
   ],
   "source": [
    "df1"
   ]
  },
  {
   "cell_type": "code",
   "execution_count": 178,
   "metadata": {},
   "outputs": [
    {
     "output_type": "execute_result",
     "data": {
      "text/plain": [
       "44"
      ]
     },
     "metadata": {},
     "execution_count": 178
    }
   ],
   "source": []
  },
  {
   "cell_type": "code",
   "execution_count": 227,
   "metadata": {},
   "outputs": [
    {
     "output_type": "execute_result",
     "data": {
      "text/plain": [
       "     year    state state_po  state_fips  state_cen  state_ic        office  \\\n",
       "0    2016  Alabama       AL           1         63        41  US President   \n",
       "1    2016  Alabama       AL           1         63        41  US President   \n",
       "2    2016  Alabama       AL           1         63        41  US President   \n",
       "3    2016  Alabama       AL           1         63        41  US President   \n",
       "4    2016  Alabama       AL           1         63        41  US President   \n",
       "..    ...      ...      ...         ...        ...       ...           ...   \n",
       "340  2016  Wyoming       WY          56         83        68  US President   \n",
       "341  2016  Wyoming       WY          56         83        68  US President   \n",
       "342  2016  Wyoming       WY          56         83        68  US President   \n",
       "343  2016  Wyoming       WY          56         83        68  US President   \n",
       "344  2016  Wyoming       WY          56         83        68  US President   \n",
       "\n",
       "              candidate               party  writein  candidatevotes  \\\n",
       "0      Trump, Donald J.          republican    False         1318255   \n",
       "1      Clinton, Hillary            democrat    False          729547   \n",
       "2         Johnson, Gary         libertarian    False           44467   \n",
       "3                   NaN                 NaN     True           21712   \n",
       "4           Stein, Jill               green    False            9391   \n",
       "..                  ...                 ...      ...             ...   \n",
       "340                 NaN                 NaN     True            6904   \n",
       "341                 NaN         independent    False            3224   \n",
       "342          Blank Vote                 NaN    False            2661   \n",
       "343  Castle, Darrell L.  constitution party    False            2042   \n",
       "344           Over Vote                 NaN    False             278   \n",
       "\n",
       "     totalvotes   version  notes  \n",
       "0       2123372  20171015    NaN  \n",
       "1       2123372  20171015    NaN  \n",
       "2       2123372  20171015    NaN  \n",
       "3       2123372  20171015    NaN  \n",
       "4       2123372  20171015    NaN  \n",
       "..          ...       ...    ...  \n",
       "340      258788  20171015    NaN  \n",
       "341      258788  20171015    NaN  \n",
       "342      258788  20171015    NaN  \n",
       "343      258788  20171015    NaN  \n",
       "344      258788  20171015    NaN  \n",
       "\n",
       "[345 rows x 14 columns]"
      ],
      "text/html": "<div>\n<style scoped>\n    .dataframe tbody tr th:only-of-type {\n        vertical-align: middle;\n    }\n\n    .dataframe tbody tr th {\n        vertical-align: top;\n    }\n\n    .dataframe thead th {\n        text-align: right;\n    }\n</style>\n<table border=\"1\" class=\"dataframe\">\n  <thead>\n    <tr style=\"text-align: right;\">\n      <th></th>\n      <th>year</th>\n      <th>state</th>\n      <th>state_po</th>\n      <th>state_fips</th>\n      <th>state_cen</th>\n      <th>state_ic</th>\n      <th>office</th>\n      <th>candidate</th>\n      <th>party</th>\n      <th>writein</th>\n      <th>candidatevotes</th>\n      <th>totalvotes</th>\n      <th>version</th>\n      <th>notes</th>\n    </tr>\n  </thead>\n  <tbody>\n    <tr>\n      <th>0</th>\n      <td>2016</td>\n      <td>Alabama</td>\n      <td>AL</td>\n      <td>1</td>\n      <td>63</td>\n      <td>41</td>\n      <td>US President</td>\n      <td>Trump, Donald J.</td>\n      <td>republican</td>\n      <td>False</td>\n      <td>1318255</td>\n      <td>2123372</td>\n      <td>20171015</td>\n      <td>NaN</td>\n    </tr>\n    <tr>\n      <th>1</th>\n      <td>2016</td>\n      <td>Alabama</td>\n      <td>AL</td>\n      <td>1</td>\n      <td>63</td>\n      <td>41</td>\n      <td>US President</td>\n      <td>Clinton, Hillary</td>\n      <td>democrat</td>\n      <td>False</td>\n      <td>729547</td>\n      <td>2123372</td>\n      <td>20171015</td>\n      <td>NaN</td>\n    </tr>\n    <tr>\n      <th>2</th>\n      <td>2016</td>\n      <td>Alabama</td>\n      <td>AL</td>\n      <td>1</td>\n      <td>63</td>\n      <td>41</td>\n      <td>US President</td>\n      <td>Johnson, Gary</td>\n      <td>libertarian</td>\n      <td>False</td>\n      <td>44467</td>\n      <td>2123372</td>\n      <td>20171015</td>\n      <td>NaN</td>\n    </tr>\n    <tr>\n      <th>3</th>\n      <td>2016</td>\n      <td>Alabama</td>\n      <td>AL</td>\n      <td>1</td>\n      <td>63</td>\n      <td>41</td>\n      <td>US President</td>\n      <td>NaN</td>\n      <td>NaN</td>\n      <td>True</td>\n      <td>21712</td>\n      <td>2123372</td>\n      <td>20171015</td>\n      <td>NaN</td>\n    </tr>\n    <tr>\n      <th>4</th>\n      <td>2016</td>\n      <td>Alabama</td>\n      <td>AL</td>\n      <td>1</td>\n      <td>63</td>\n      <td>41</td>\n      <td>US President</td>\n      <td>Stein, Jill</td>\n      <td>green</td>\n      <td>False</td>\n      <td>9391</td>\n      <td>2123372</td>\n      <td>20171015</td>\n      <td>NaN</td>\n    </tr>\n    <tr>\n      <th>...</th>\n      <td>...</td>\n      <td>...</td>\n      <td>...</td>\n      <td>...</td>\n      <td>...</td>\n      <td>...</td>\n      <td>...</td>\n      <td>...</td>\n      <td>...</td>\n      <td>...</td>\n      <td>...</td>\n      <td>...</td>\n      <td>...</td>\n      <td>...</td>\n    </tr>\n    <tr>\n      <th>340</th>\n      <td>2016</td>\n      <td>Wyoming</td>\n      <td>WY</td>\n      <td>56</td>\n      <td>83</td>\n      <td>68</td>\n      <td>US President</td>\n      <td>NaN</td>\n      <td>NaN</td>\n      <td>True</td>\n      <td>6904</td>\n      <td>258788</td>\n      <td>20171015</td>\n      <td>NaN</td>\n    </tr>\n    <tr>\n      <th>341</th>\n      <td>2016</td>\n      <td>Wyoming</td>\n      <td>WY</td>\n      <td>56</td>\n      <td>83</td>\n      <td>68</td>\n      <td>US President</td>\n      <td>NaN</td>\n      <td>independent</td>\n      <td>False</td>\n      <td>3224</td>\n      <td>258788</td>\n      <td>20171015</td>\n      <td>NaN</td>\n    </tr>\n    <tr>\n      <th>342</th>\n      <td>2016</td>\n      <td>Wyoming</td>\n      <td>WY</td>\n      <td>56</td>\n      <td>83</td>\n      <td>68</td>\n      <td>US President</td>\n      <td>Blank Vote</td>\n      <td>NaN</td>\n      <td>False</td>\n      <td>2661</td>\n      <td>258788</td>\n      <td>20171015</td>\n      <td>NaN</td>\n    </tr>\n    <tr>\n      <th>343</th>\n      <td>2016</td>\n      <td>Wyoming</td>\n      <td>WY</td>\n      <td>56</td>\n      <td>83</td>\n      <td>68</td>\n      <td>US President</td>\n      <td>Castle, Darrell L.</td>\n      <td>constitution party</td>\n      <td>False</td>\n      <td>2042</td>\n      <td>258788</td>\n      <td>20171015</td>\n      <td>NaN</td>\n    </tr>\n    <tr>\n      <th>344</th>\n      <td>2016</td>\n      <td>Wyoming</td>\n      <td>WY</td>\n      <td>56</td>\n      <td>83</td>\n      <td>68</td>\n      <td>US President</td>\n      <td>Over Vote</td>\n      <td>NaN</td>\n      <td>False</td>\n      <td>278</td>\n      <td>258788</td>\n      <td>20171015</td>\n      <td>NaN</td>\n    </tr>\n  </tbody>\n</table>\n<p>345 rows × 14 columns</p>\n</div>"
     },
     "metadata": {},
     "execution_count": 227
    }
   ],
   "source": [
    "df2"
   ]
  },
  {
   "cell_type": "code",
   "execution_count": 228,
   "metadata": {},
   "outputs": [],
   "source": [
    "df1_new=df1[[\"State Postal\",\"County Name\",\"Obama vote\",\"Romney vote\",'FIPS']].drop_duplicates(subset='Romney vote', keep='first')\n"
   ]
  },
  {
   "cell_type": "code",
   "execution_count": 229,
   "metadata": {},
   "outputs": [],
   "source": [
    "df2_new=df2[[\"year\",\"state\",\"state_po\",\"party\",\"candidatevotes\"]]"
   ]
  },
  {
   "cell_type": "code",
   "execution_count": 230,
   "metadata": {},
   "outputs": [
    {
     "output_type": "execute_result",
     "data": {
      "text/plain": [
       "     year    state state_po               party  candidatevotes  Republican  \\\n",
       "0    2016  Alabama       AL          republican         1318255           0   \n",
       "1    2016  Alabama       AL            democrat          729547           0   \n",
       "2    2016  Alabama       AL         libertarian           44467           0   \n",
       "3    2016  Alabama       AL                 NaN           21712           0   \n",
       "4    2016  Alabama       AL               green            9391           0   \n",
       "..    ...      ...      ...                 ...             ...         ...   \n",
       "340  2016  Wyoming       WY                 NaN            6904           0   \n",
       "341  2016  Wyoming       WY         independent            3224           0   \n",
       "342  2016  Wyoming       WY                 NaN            2661           0   \n",
       "343  2016  Wyoming       WY  constitution party            2042           0   \n",
       "344  2016  Wyoming       WY                 NaN             278           0   \n",
       "\n",
       "     Democrat  \n",
       "0           0  \n",
       "1           0  \n",
       "2           0  \n",
       "3           0  \n",
       "4           0  \n",
       "..        ...  \n",
       "340         0  \n",
       "341         0  \n",
       "342         0  \n",
       "343         0  \n",
       "344         0  \n",
       "\n",
       "[345 rows x 7 columns]"
      ],
      "text/html": "<div>\n<style scoped>\n    .dataframe tbody tr th:only-of-type {\n        vertical-align: middle;\n    }\n\n    .dataframe tbody tr th {\n        vertical-align: top;\n    }\n\n    .dataframe thead th {\n        text-align: right;\n    }\n</style>\n<table border=\"1\" class=\"dataframe\">\n  <thead>\n    <tr style=\"text-align: right;\">\n      <th></th>\n      <th>year</th>\n      <th>state</th>\n      <th>state_po</th>\n      <th>party</th>\n      <th>candidatevotes</th>\n      <th>Republican</th>\n      <th>Democrat</th>\n    </tr>\n  </thead>\n  <tbody>\n    <tr>\n      <th>0</th>\n      <td>2016</td>\n      <td>Alabama</td>\n      <td>AL</td>\n      <td>republican</td>\n      <td>1318255</td>\n      <td>0</td>\n      <td>0</td>\n    </tr>\n    <tr>\n      <th>1</th>\n      <td>2016</td>\n      <td>Alabama</td>\n      <td>AL</td>\n      <td>democrat</td>\n      <td>729547</td>\n      <td>0</td>\n      <td>0</td>\n    </tr>\n    <tr>\n      <th>2</th>\n      <td>2016</td>\n      <td>Alabama</td>\n      <td>AL</td>\n      <td>libertarian</td>\n      <td>44467</td>\n      <td>0</td>\n      <td>0</td>\n    </tr>\n    <tr>\n      <th>3</th>\n      <td>2016</td>\n      <td>Alabama</td>\n      <td>AL</td>\n      <td>NaN</td>\n      <td>21712</td>\n      <td>0</td>\n      <td>0</td>\n    </tr>\n    <tr>\n      <th>4</th>\n      <td>2016</td>\n      <td>Alabama</td>\n      <td>AL</td>\n      <td>green</td>\n      <td>9391</td>\n      <td>0</td>\n      <td>0</td>\n    </tr>\n    <tr>\n      <th>...</th>\n      <td>...</td>\n      <td>...</td>\n      <td>...</td>\n      <td>...</td>\n      <td>...</td>\n      <td>...</td>\n      <td>...</td>\n    </tr>\n    <tr>\n      <th>340</th>\n      <td>2016</td>\n      <td>Wyoming</td>\n      <td>WY</td>\n      <td>NaN</td>\n      <td>6904</td>\n      <td>0</td>\n      <td>0</td>\n    </tr>\n    <tr>\n      <th>341</th>\n      <td>2016</td>\n      <td>Wyoming</td>\n      <td>WY</td>\n      <td>independent</td>\n      <td>3224</td>\n      <td>0</td>\n      <td>0</td>\n    </tr>\n    <tr>\n      <th>342</th>\n      <td>2016</td>\n      <td>Wyoming</td>\n      <td>WY</td>\n      <td>NaN</td>\n      <td>2661</td>\n      <td>0</td>\n      <td>0</td>\n    </tr>\n    <tr>\n      <th>343</th>\n      <td>2016</td>\n      <td>Wyoming</td>\n      <td>WY</td>\n      <td>constitution party</td>\n      <td>2042</td>\n      <td>0</td>\n      <td>0</td>\n    </tr>\n    <tr>\n      <th>344</th>\n      <td>2016</td>\n      <td>Wyoming</td>\n      <td>WY</td>\n      <td>NaN</td>\n      <td>278</td>\n      <td>0</td>\n      <td>0</td>\n    </tr>\n  </tbody>\n</table>\n<p>345 rows × 7 columns</p>\n</div>"
     },
     "metadata": {},
     "execution_count": 230
    }
   ],
   "source": [
    "df2_new['Republican']=0\n",
    "df2_new['Democrat']=0\n",
    "df2_new\n",
    "\n"
   ]
  },
  {
   "cell_type": "code",
   "execution_count": 231,
   "metadata": {},
   "outputs": [
    {
     "output_type": "execute_result",
     "data": {
      "text/plain": [
       "'libertarian'"
      ]
     },
     "metadata": {},
     "execution_count": 231
    }
   ],
   "source": [
    "df2_new['party'][2]"
   ]
  },
  {
   "cell_type": "code",
   "execution_count": 232,
   "metadata": {
    "tags": []
   },
   "outputs": [
    {
     "output_type": "execute_result",
     "data": {
      "text/plain": [
       "     year    state state_po               party  candidatevotes  Republican  \\\n",
       "0    2016  Alabama       AL          republican         1318255     1318255   \n",
       "1    2016  Alabama       AL            democrat          729547           0   \n",
       "2    2016  Alabama       AL         libertarian           44467           0   \n",
       "3    2016  Alabama       AL                 NaN           21712           0   \n",
       "4    2016  Alabama       AL               green            9391           0   \n",
       "..    ...      ...      ...                 ...             ...         ...   \n",
       "340  2016  Wyoming       WY                 NaN            6904           0   \n",
       "341  2016  Wyoming       WY         independent            3224           0   \n",
       "342  2016  Wyoming       WY                 NaN            2661           0   \n",
       "343  2016  Wyoming       WY  constitution party            2042           0   \n",
       "344  2016  Wyoming       WY                 NaN             278           0   \n",
       "\n",
       "     Democrat  \n",
       "0           0  \n",
       "1      729547  \n",
       "2           0  \n",
       "3           0  \n",
       "4           0  \n",
       "..        ...  \n",
       "340         0  \n",
       "341         0  \n",
       "342         0  \n",
       "343         0  \n",
       "344         0  \n",
       "\n",
       "[345 rows x 7 columns]"
      ],
      "text/html": "<div>\n<style scoped>\n    .dataframe tbody tr th:only-of-type {\n        vertical-align: middle;\n    }\n\n    .dataframe tbody tr th {\n        vertical-align: top;\n    }\n\n    .dataframe thead th {\n        text-align: right;\n    }\n</style>\n<table border=\"1\" class=\"dataframe\">\n  <thead>\n    <tr style=\"text-align: right;\">\n      <th></th>\n      <th>year</th>\n      <th>state</th>\n      <th>state_po</th>\n      <th>party</th>\n      <th>candidatevotes</th>\n      <th>Republican</th>\n      <th>Democrat</th>\n    </tr>\n  </thead>\n  <tbody>\n    <tr>\n      <th>0</th>\n      <td>2016</td>\n      <td>Alabama</td>\n      <td>AL</td>\n      <td>republican</td>\n      <td>1318255</td>\n      <td>1318255</td>\n      <td>0</td>\n    </tr>\n    <tr>\n      <th>1</th>\n      <td>2016</td>\n      <td>Alabama</td>\n      <td>AL</td>\n      <td>democrat</td>\n      <td>729547</td>\n      <td>0</td>\n      <td>729547</td>\n    </tr>\n    <tr>\n      <th>2</th>\n      <td>2016</td>\n      <td>Alabama</td>\n      <td>AL</td>\n      <td>libertarian</td>\n      <td>44467</td>\n      <td>0</td>\n      <td>0</td>\n    </tr>\n    <tr>\n      <th>3</th>\n      <td>2016</td>\n      <td>Alabama</td>\n      <td>AL</td>\n      <td>NaN</td>\n      <td>21712</td>\n      <td>0</td>\n      <td>0</td>\n    </tr>\n    <tr>\n      <th>4</th>\n      <td>2016</td>\n      <td>Alabama</td>\n      <td>AL</td>\n      <td>green</td>\n      <td>9391</td>\n      <td>0</td>\n      <td>0</td>\n    </tr>\n    <tr>\n      <th>...</th>\n      <td>...</td>\n      <td>...</td>\n      <td>...</td>\n      <td>...</td>\n      <td>...</td>\n      <td>...</td>\n      <td>...</td>\n    </tr>\n    <tr>\n      <th>340</th>\n      <td>2016</td>\n      <td>Wyoming</td>\n      <td>WY</td>\n      <td>NaN</td>\n      <td>6904</td>\n      <td>0</td>\n      <td>0</td>\n    </tr>\n    <tr>\n      <th>341</th>\n      <td>2016</td>\n      <td>Wyoming</td>\n      <td>WY</td>\n      <td>independent</td>\n      <td>3224</td>\n      <td>0</td>\n      <td>0</td>\n    </tr>\n    <tr>\n      <th>342</th>\n      <td>2016</td>\n      <td>Wyoming</td>\n      <td>WY</td>\n      <td>NaN</td>\n      <td>2661</td>\n      <td>0</td>\n      <td>0</td>\n    </tr>\n    <tr>\n      <th>343</th>\n      <td>2016</td>\n      <td>Wyoming</td>\n      <td>WY</td>\n      <td>constitution party</td>\n      <td>2042</td>\n      <td>0</td>\n      <td>0</td>\n    </tr>\n    <tr>\n      <th>344</th>\n      <td>2016</td>\n      <td>Wyoming</td>\n      <td>WY</td>\n      <td>NaN</td>\n      <td>278</td>\n      <td>0</td>\n      <td>0</td>\n    </tr>\n  </tbody>\n</table>\n<p>345 rows × 7 columns</p>\n</div>"
     },
     "metadata": {},
     "execution_count": 232
    }
   ],
   "source": [
    "y=0\n",
    "for x in df2_new['Democrat']:\n",
    "    if df2_new['party'][y]=='republican':\n",
    "        df2_new['Republican'][y]=df2_new['candidatevotes'][y]\n",
    "    elif df2_new['party'][y]=='democrat':\n",
    "        df2_new['Democrat'][y]=df2_new['candidatevotes'][y]\n",
    "\n",
    "    y=y+1\n",
    "\n",
    "df2_new"
   ]
  },
  {
   "cell_type": "code",
   "execution_count": 233,
   "metadata": {},
   "outputs": [
    {
     "output_type": "execute_result",
     "data": {
      "text/plain": [
       "     State Postal County Name  Democrat  Republican     FIPS  year\n",
       "0              AK      Alaska   91696.0    121234.0      0.0  2012\n",
       "2              AL     Alabama  793620.0   1252453.0      0.0  2012\n",
       "3              AL     Autauga    6354.0     17366.0   1001.0  2012\n",
       "4              AL     Baldwin   18329.0     65772.0   1003.0  2012\n",
       "5              AL     Barbour    5873.0      5539.0   1005.0  2012\n",
       "...           ...         ...       ...         ...      ...   ...\n",
       "4068           WV       Wayne    4915.0      8673.0  54099.0  2012\n",
       "4069           WV     Webster     939.0      1708.0  54101.0  2012\n",
       "4070           WV      Wetzel    2194.0      3449.0  54103.0  2012\n",
       "4072           WV        Wood   11067.0     21980.0  54107.0  2012\n",
       "4073           WV     Wyoming    1575.0      5751.0  54109.0  2012\n",
       "\n",
       "[3351 rows x 6 columns]"
      ],
      "text/html": "<div>\n<style scoped>\n    .dataframe tbody tr th:only-of-type {\n        vertical-align: middle;\n    }\n\n    .dataframe tbody tr th {\n        vertical-align: top;\n    }\n\n    .dataframe thead th {\n        text-align: right;\n    }\n</style>\n<table border=\"1\" class=\"dataframe\">\n  <thead>\n    <tr style=\"text-align: right;\">\n      <th></th>\n      <th>State Postal</th>\n      <th>County Name</th>\n      <th>Democrat</th>\n      <th>Republican</th>\n      <th>FIPS</th>\n      <th>year</th>\n    </tr>\n  </thead>\n  <tbody>\n    <tr>\n      <th>0</th>\n      <td>AK</td>\n      <td>Alaska</td>\n      <td>91696.0</td>\n      <td>121234.0</td>\n      <td>0.0</td>\n      <td>2012</td>\n    </tr>\n    <tr>\n      <th>2</th>\n      <td>AL</td>\n      <td>Alabama</td>\n      <td>793620.0</td>\n      <td>1252453.0</td>\n      <td>0.0</td>\n      <td>2012</td>\n    </tr>\n    <tr>\n      <th>3</th>\n      <td>AL</td>\n      <td>Autauga</td>\n      <td>6354.0</td>\n      <td>17366.0</td>\n      <td>1001.0</td>\n      <td>2012</td>\n    </tr>\n    <tr>\n      <th>4</th>\n      <td>AL</td>\n      <td>Baldwin</td>\n      <td>18329.0</td>\n      <td>65772.0</td>\n      <td>1003.0</td>\n      <td>2012</td>\n    </tr>\n    <tr>\n      <th>5</th>\n      <td>AL</td>\n      <td>Barbour</td>\n      <td>5873.0</td>\n      <td>5539.0</td>\n      <td>1005.0</td>\n      <td>2012</td>\n    </tr>\n    <tr>\n      <th>...</th>\n      <td>...</td>\n      <td>...</td>\n      <td>...</td>\n      <td>...</td>\n      <td>...</td>\n      <td>...</td>\n    </tr>\n    <tr>\n      <th>4068</th>\n      <td>WV</td>\n      <td>Wayne</td>\n      <td>4915.0</td>\n      <td>8673.0</td>\n      <td>54099.0</td>\n      <td>2012</td>\n    </tr>\n    <tr>\n      <th>4069</th>\n      <td>WV</td>\n      <td>Webster</td>\n      <td>939.0</td>\n      <td>1708.0</td>\n      <td>54101.0</td>\n      <td>2012</td>\n    </tr>\n    <tr>\n      <th>4070</th>\n      <td>WV</td>\n      <td>Wetzel</td>\n      <td>2194.0</td>\n      <td>3449.0</td>\n      <td>54103.0</td>\n      <td>2012</td>\n    </tr>\n    <tr>\n      <th>4072</th>\n      <td>WV</td>\n      <td>Wood</td>\n      <td>11067.0</td>\n      <td>21980.0</td>\n      <td>54107.0</td>\n      <td>2012</td>\n    </tr>\n    <tr>\n      <th>4073</th>\n      <td>WV</td>\n      <td>Wyoming</td>\n      <td>1575.0</td>\n      <td>5751.0</td>\n      <td>54109.0</td>\n      <td>2012</td>\n    </tr>\n  </tbody>\n</table>\n<p>3351 rows × 6 columns</p>\n</div>"
     },
     "metadata": {},
     "execution_count": 233
    }
   ],
   "source": [
    "df1_new = df1_new.rename(columns={'Obama vote': 'Democrat', 'Romney vote': 'Republican'})\n",
    "df1_new['year']=2012\n",
    "df1_new \n"
   ]
  },
  {
   "cell_type": "code",
   "execution_count": 234,
   "metadata": {},
   "outputs": [
    {
     "output_type": "execute_result",
     "data": {
      "text/plain": [
       "                   state  year  Republican  Democrat\n",
       "0                Alabama  2016     1318255    729547\n",
       "1                 Alaska  2016      163387    116454\n",
       "2                Arizona  2016     1252401   1161209\n",
       "3               Arkansas  2016      684872    380494\n",
       "4             California  2016     4483810   8753788\n",
       "5               Colorado  2016     1202484   1338870\n",
       "6            Connecticut  2016      673215    897572\n",
       "7               Delaware  2016      185127    235603\n",
       "8   District of Columbia  2016       12723    282830\n",
       "9                Florida  2016     4617886   4504975\n",
       "10               Georgia  2016     2089104   1877963\n",
       "11                Hawaii  2016      128847    266891\n",
       "12                 Idaho  2016      409055    189765\n",
       "13              Illinois  2016     2146015   3090729\n",
       "14               Indiana  2016     1557286   1033126\n",
       "15                  Iowa  2016      800983    653669\n",
       "16                Kansas  2016      671018    427005\n",
       "17              Kentucky  2016     1202971    628854\n",
       "18             Louisiana  2016     1178638    780154\n",
       "19                 Maine  2016      335593    357735\n",
       "20              Maryland  2016      943428   1678006\n",
       "21         Massachusetts  2016     1090893   1995196\n",
       "22              Michigan  2016     2279543   2268839\n",
       "23             Minnesota  2016     1322949   1367705\n",
       "24           Mississippi  2016      700714    485131\n",
       "25              Missouri  2016     1594511   1071068\n",
       "26               Montana  2016      279240    177709\n",
       "27              Nebraska  2016      495961    284494\n",
       "28                Nevada  2016      512058    539260\n",
       "29         New Hampshire  2016      345790    348526\n",
       "30            New Jersey  2016     1601933   2148278\n",
       "31            New Mexico  2016      319667    385234\n",
       "32              New York  2016     2527142   4379789\n",
       "33        North Carolina  2016     2362631   2189316\n",
       "34          North Dakota  2016      216794     93758\n",
       "35                  Ohio  2016     2841005   2394164\n",
       "36              Oklahoma  2016      949136    420375\n",
       "37                Oregon  2016      782403   1002106\n",
       "38          Pennsylvania  2016     2970733   2926441\n",
       "39          Rhode Island  2016      180543    252525\n",
       "40        South Carolina  2016     1155389    855373\n",
       "41          South Dakota  2016      227721    117458\n",
       "42             Tennessee  2016     1522925    870695\n",
       "43                 Texas  2016     4685047   3877868\n",
       "44                  Utah  2016      515211    310674\n",
       "45               Vermont  2016       95369    178573\n",
       "46              Virginia  2016     1769443   1981473\n",
       "47            Washington  2016     1221747   1742718\n",
       "48         West Virginia  2016      489371    188794\n",
       "49             Wisconsin  2016     1405284   1382536\n",
       "50               Wyoming  2016      174419     55973"
      ],
      "text/html": "<div>\n<style scoped>\n    .dataframe tbody tr th:only-of-type {\n        vertical-align: middle;\n    }\n\n    .dataframe tbody tr th {\n        vertical-align: top;\n    }\n\n    .dataframe thead th {\n        text-align: right;\n    }\n</style>\n<table border=\"1\" class=\"dataframe\">\n  <thead>\n    <tr style=\"text-align: right;\">\n      <th></th>\n      <th>state</th>\n      <th>year</th>\n      <th>Republican</th>\n      <th>Democrat</th>\n    </tr>\n  </thead>\n  <tbody>\n    <tr>\n      <th>0</th>\n      <td>Alabama</td>\n      <td>2016</td>\n      <td>1318255</td>\n      <td>729547</td>\n    </tr>\n    <tr>\n      <th>1</th>\n      <td>Alaska</td>\n      <td>2016</td>\n      <td>163387</td>\n      <td>116454</td>\n    </tr>\n    <tr>\n      <th>2</th>\n      <td>Arizona</td>\n      <td>2016</td>\n      <td>1252401</td>\n      <td>1161209</td>\n    </tr>\n    <tr>\n      <th>3</th>\n      <td>Arkansas</td>\n      <td>2016</td>\n      <td>684872</td>\n      <td>380494</td>\n    </tr>\n    <tr>\n      <th>4</th>\n      <td>California</td>\n      <td>2016</td>\n      <td>4483810</td>\n      <td>8753788</td>\n    </tr>\n    <tr>\n      <th>5</th>\n      <td>Colorado</td>\n      <td>2016</td>\n      <td>1202484</td>\n      <td>1338870</td>\n    </tr>\n    <tr>\n      <th>6</th>\n      <td>Connecticut</td>\n      <td>2016</td>\n      <td>673215</td>\n      <td>897572</td>\n    </tr>\n    <tr>\n      <th>7</th>\n      <td>Delaware</td>\n      <td>2016</td>\n      <td>185127</td>\n      <td>235603</td>\n    </tr>\n    <tr>\n      <th>8</th>\n      <td>District of Columbia</td>\n      <td>2016</td>\n      <td>12723</td>\n      <td>282830</td>\n    </tr>\n    <tr>\n      <th>9</th>\n      <td>Florida</td>\n      <td>2016</td>\n      <td>4617886</td>\n      <td>4504975</td>\n    </tr>\n    <tr>\n      <th>10</th>\n      <td>Georgia</td>\n      <td>2016</td>\n      <td>2089104</td>\n      <td>1877963</td>\n    </tr>\n    <tr>\n      <th>11</th>\n      <td>Hawaii</td>\n      <td>2016</td>\n      <td>128847</td>\n      <td>266891</td>\n    </tr>\n    <tr>\n      <th>12</th>\n      <td>Idaho</td>\n      <td>2016</td>\n      <td>409055</td>\n      <td>189765</td>\n    </tr>\n    <tr>\n      <th>13</th>\n      <td>Illinois</td>\n      <td>2016</td>\n      <td>2146015</td>\n      <td>3090729</td>\n    </tr>\n    <tr>\n      <th>14</th>\n      <td>Indiana</td>\n      <td>2016</td>\n      <td>1557286</td>\n      <td>1033126</td>\n    </tr>\n    <tr>\n      <th>15</th>\n      <td>Iowa</td>\n      <td>2016</td>\n      <td>800983</td>\n      <td>653669</td>\n    </tr>\n    <tr>\n      <th>16</th>\n      <td>Kansas</td>\n      <td>2016</td>\n      <td>671018</td>\n      <td>427005</td>\n    </tr>\n    <tr>\n      <th>17</th>\n      <td>Kentucky</td>\n      <td>2016</td>\n      <td>1202971</td>\n      <td>628854</td>\n    </tr>\n    <tr>\n      <th>18</th>\n      <td>Louisiana</td>\n      <td>2016</td>\n      <td>1178638</td>\n      <td>780154</td>\n    </tr>\n    <tr>\n      <th>19</th>\n      <td>Maine</td>\n      <td>2016</td>\n      <td>335593</td>\n      <td>357735</td>\n    </tr>\n    <tr>\n      <th>20</th>\n      <td>Maryland</td>\n      <td>2016</td>\n      <td>943428</td>\n      <td>1678006</td>\n    </tr>\n    <tr>\n      <th>21</th>\n      <td>Massachusetts</td>\n      <td>2016</td>\n      <td>1090893</td>\n      <td>1995196</td>\n    </tr>\n    <tr>\n      <th>22</th>\n      <td>Michigan</td>\n      <td>2016</td>\n      <td>2279543</td>\n      <td>2268839</td>\n    </tr>\n    <tr>\n      <th>23</th>\n      <td>Minnesota</td>\n      <td>2016</td>\n      <td>1322949</td>\n      <td>1367705</td>\n    </tr>\n    <tr>\n      <th>24</th>\n      <td>Mississippi</td>\n      <td>2016</td>\n      <td>700714</td>\n      <td>485131</td>\n    </tr>\n    <tr>\n      <th>25</th>\n      <td>Missouri</td>\n      <td>2016</td>\n      <td>1594511</td>\n      <td>1071068</td>\n    </tr>\n    <tr>\n      <th>26</th>\n      <td>Montana</td>\n      <td>2016</td>\n      <td>279240</td>\n      <td>177709</td>\n    </tr>\n    <tr>\n      <th>27</th>\n      <td>Nebraska</td>\n      <td>2016</td>\n      <td>495961</td>\n      <td>284494</td>\n    </tr>\n    <tr>\n      <th>28</th>\n      <td>Nevada</td>\n      <td>2016</td>\n      <td>512058</td>\n      <td>539260</td>\n    </tr>\n    <tr>\n      <th>29</th>\n      <td>New Hampshire</td>\n      <td>2016</td>\n      <td>345790</td>\n      <td>348526</td>\n    </tr>\n    <tr>\n      <th>30</th>\n      <td>New Jersey</td>\n      <td>2016</td>\n      <td>1601933</td>\n      <td>2148278</td>\n    </tr>\n    <tr>\n      <th>31</th>\n      <td>New Mexico</td>\n      <td>2016</td>\n      <td>319667</td>\n      <td>385234</td>\n    </tr>\n    <tr>\n      <th>32</th>\n      <td>New York</td>\n      <td>2016</td>\n      <td>2527142</td>\n      <td>4379789</td>\n    </tr>\n    <tr>\n      <th>33</th>\n      <td>North Carolina</td>\n      <td>2016</td>\n      <td>2362631</td>\n      <td>2189316</td>\n    </tr>\n    <tr>\n      <th>34</th>\n      <td>North Dakota</td>\n      <td>2016</td>\n      <td>216794</td>\n      <td>93758</td>\n    </tr>\n    <tr>\n      <th>35</th>\n      <td>Ohio</td>\n      <td>2016</td>\n      <td>2841005</td>\n      <td>2394164</td>\n    </tr>\n    <tr>\n      <th>36</th>\n      <td>Oklahoma</td>\n      <td>2016</td>\n      <td>949136</td>\n      <td>420375</td>\n    </tr>\n    <tr>\n      <th>37</th>\n      <td>Oregon</td>\n      <td>2016</td>\n      <td>782403</td>\n      <td>1002106</td>\n    </tr>\n    <tr>\n      <th>38</th>\n      <td>Pennsylvania</td>\n      <td>2016</td>\n      <td>2970733</td>\n      <td>2926441</td>\n    </tr>\n    <tr>\n      <th>39</th>\n      <td>Rhode Island</td>\n      <td>2016</td>\n      <td>180543</td>\n      <td>252525</td>\n    </tr>\n    <tr>\n      <th>40</th>\n      <td>South Carolina</td>\n      <td>2016</td>\n      <td>1155389</td>\n      <td>855373</td>\n    </tr>\n    <tr>\n      <th>41</th>\n      <td>South Dakota</td>\n      <td>2016</td>\n      <td>227721</td>\n      <td>117458</td>\n    </tr>\n    <tr>\n      <th>42</th>\n      <td>Tennessee</td>\n      <td>2016</td>\n      <td>1522925</td>\n      <td>870695</td>\n    </tr>\n    <tr>\n      <th>43</th>\n      <td>Texas</td>\n      <td>2016</td>\n      <td>4685047</td>\n      <td>3877868</td>\n    </tr>\n    <tr>\n      <th>44</th>\n      <td>Utah</td>\n      <td>2016</td>\n      <td>515211</td>\n      <td>310674</td>\n    </tr>\n    <tr>\n      <th>45</th>\n      <td>Vermont</td>\n      <td>2016</td>\n      <td>95369</td>\n      <td>178573</td>\n    </tr>\n    <tr>\n      <th>46</th>\n      <td>Virginia</td>\n      <td>2016</td>\n      <td>1769443</td>\n      <td>1981473</td>\n    </tr>\n    <tr>\n      <th>47</th>\n      <td>Washington</td>\n      <td>2016</td>\n      <td>1221747</td>\n      <td>1742718</td>\n    </tr>\n    <tr>\n      <th>48</th>\n      <td>West Virginia</td>\n      <td>2016</td>\n      <td>489371</td>\n      <td>188794</td>\n    </tr>\n    <tr>\n      <th>49</th>\n      <td>Wisconsin</td>\n      <td>2016</td>\n      <td>1405284</td>\n      <td>1382536</td>\n    </tr>\n    <tr>\n      <th>50</th>\n      <td>Wyoming</td>\n      <td>2016</td>\n      <td>174419</td>\n      <td>55973</td>\n    </tr>\n  </tbody>\n</table>\n</div>"
     },
     "metadata": {},
     "execution_count": 234
    }
   ],
   "source": [
    "x=df2_new.groupby('state').sum().reset_index()\n",
    "x[\"year\"]=2016\n",
    "df2_clean=x.drop(['candidatevotes'], axis='columns')\n",
    "\n",
    "df2_clean"
   ]
  },
  {
   "cell_type": "code",
   "execution_count": 235,
   "metadata": {},
   "outputs": [],
   "source": [
    "y = df1_new.loc[df1_new['FIPS']==0]\n"
   ]
  },
  {
   "cell_type": "code",
   "execution_count": 150,
   "metadata": {},
   "outputs": [
    {
     "output_type": "execute_result",
     "data": {
      "text/plain": [
       "     State Postal           County Name   Democrat Republican  FIPS  year\n",
       "0              AK                Alaska     91,696    121,234     0  2012\n",
       "2              AL               Alabama    793,620  1,252,453     0  2012\n",
       "70             AR              Arkansas    391,953    643,717     0  2012\n",
       "145            AZ               Arizona    900,081  1,107,130     0  2012\n",
       "161            CA            California  6,241,648  4,046,524     0  2012\n",
       "220            DC  District of Columbia    222,332     17,337     0  2012\n",
       "222            DE              Delaware    242,547    165,476     0  2012\n",
       "226            HI                Hawaii    303,090    119,494     0  2012\n",
       "227            HI                Hawaii     46,670     14,541     0  2012\n",
       "231            IA                  Iowa    816,429    727,928     0  2012\n",
       "279            IA                  Iowa      4,118      4,551     0  2012\n",
       "331            ID                 Idaho    212,560    420,750     0  2012\n",
       "376            IL              Illinois  2,916,811  2,090,116     0  2012\n",
       "479            IN               Indiana  1,140,425  1,412,620     0  2012\n",
       "572            KS                Kansas    427,918    678,719     0  2012\n",
       "678            KY              Kentucky    679,340  1,087,127     0  2012\n",
       "799            LA             Louisiana    808,496  1,152,460     0  2012\n",
       "864            MA         Massachusetts  1,901,276  1,178,245     0  2012\n",
       "1216           MD              Maryland  1,527,686    904,970     0  2012\n",
       "1241           ME                 Maine    397,754    290,437     0  2012\n",
       "1741           MI              Michigan  2,561,911  2,112,673     0  2012\n",
       "1825           MN             Minnesota  1,547,668  1,321,575     0  2012\n",
       "1913           MO              Missouri  1,215,031  1,478,961     0  2012\n",
       "2029           MS           Mississippi    528,260    674,302     0  2012\n",
       "2112           MT               Montana    200,489    264,974     0  2012\n",
       "2169           NC        North Carolina  2,178,388  2,275,853     0  2012\n",
       "2270           ND          North Dakota    124,490    187,586     0  2012\n",
       "2324           NE              Nebraska    289,154    462,972     0  2012\n",
       "2418           NH         New Hampshire    368,529    327,870     0  2012\n",
       "2656           NJ            New Jersey  1,960,744  1,383,233     0  2012\n",
       "2678           NM            New Mexico    408,312    331,915     0  2012\n",
       "2712           NV                Nevada    528,801    462,422     0  2012\n",
       "2730           NY              New York  3,875,826  2,226,637     0  2012\n",
       "2793           OH                  Ohio  2,697,260  2,593,779     0  2012\n",
       "2882           OK              Oklahoma    442,647    889,372     0  2012\n",
       "2937           OK              Oklahoma    106,812    149,525     0  2012\n",
       "2960           OR                Oregon    932,459    732,288     0  2012\n",
       "2997           PA          Pennsylvania  2,907,448  2,619,583     0  2012\n",
       "3065           RI          Rhode Island    274,342    155,355     0  2012\n",
       "3105           SD          South Dakota    144,988    210,541     0  2012\n",
       "3172           TN             Tennessee    953,043  1,453,097     0  2012\n",
       "3268           TX                 Texas  3,294,440  4,555,799     0  2012\n",
       "3523           VA              Virginia  1,905,528  1,789,618     0  2012\n",
       "3658           VT               Vermont    199,259     92,700     0  2012\n",
       "3905           WA            Washington  1,588,309  1,183,614     0  2012\n",
       "3945           WI             Wisconsin  1,613,950  1,408,746     0  2012\n",
       "4018           WV         West Virginia    234,925    412,406     0  2012"
      ],
      "text/html": "<div>\n<style scoped>\n    .dataframe tbody tr th:only-of-type {\n        vertical-align: middle;\n    }\n\n    .dataframe tbody tr th {\n        vertical-align: top;\n    }\n\n    .dataframe thead th {\n        text-align: right;\n    }\n</style>\n<table border=\"1\" class=\"dataframe\">\n  <thead>\n    <tr style=\"text-align: right;\">\n      <th></th>\n      <th>State Postal</th>\n      <th>County Name</th>\n      <th>Democrat</th>\n      <th>Republican</th>\n      <th>FIPS</th>\n      <th>year</th>\n    </tr>\n  </thead>\n  <tbody>\n    <tr>\n      <th>0</th>\n      <td>AK</td>\n      <td>Alaska</td>\n      <td>91,696</td>\n      <td>121,234</td>\n      <td>0</td>\n      <td>2012</td>\n    </tr>\n    <tr>\n      <th>2</th>\n      <td>AL</td>\n      <td>Alabama</td>\n      <td>793,620</td>\n      <td>1,252,453</td>\n      <td>0</td>\n      <td>2012</td>\n    </tr>\n    <tr>\n      <th>70</th>\n      <td>AR</td>\n      <td>Arkansas</td>\n      <td>391,953</td>\n      <td>643,717</td>\n      <td>0</td>\n      <td>2012</td>\n    </tr>\n    <tr>\n      <th>145</th>\n      <td>AZ</td>\n      <td>Arizona</td>\n      <td>900,081</td>\n      <td>1,107,130</td>\n      <td>0</td>\n      <td>2012</td>\n    </tr>\n    <tr>\n      <th>161</th>\n      <td>CA</td>\n      <td>California</td>\n      <td>6,241,648</td>\n      <td>4,046,524</td>\n      <td>0</td>\n      <td>2012</td>\n    </tr>\n    <tr>\n      <th>220</th>\n      <td>DC</td>\n      <td>District of Columbia</td>\n      <td>222,332</td>\n      <td>17,337</td>\n      <td>0</td>\n      <td>2012</td>\n    </tr>\n    <tr>\n      <th>222</th>\n      <td>DE</td>\n      <td>Delaware</td>\n      <td>242,547</td>\n      <td>165,476</td>\n      <td>0</td>\n      <td>2012</td>\n    </tr>\n    <tr>\n      <th>226</th>\n      <td>HI</td>\n      <td>Hawaii</td>\n      <td>303,090</td>\n      <td>119,494</td>\n      <td>0</td>\n      <td>2012</td>\n    </tr>\n    <tr>\n      <th>227</th>\n      <td>HI</td>\n      <td>Hawaii</td>\n      <td>46,670</td>\n      <td>14,541</td>\n      <td>0</td>\n      <td>2012</td>\n    </tr>\n    <tr>\n      <th>231</th>\n      <td>IA</td>\n      <td>Iowa</td>\n      <td>816,429</td>\n      <td>727,928</td>\n      <td>0</td>\n      <td>2012</td>\n    </tr>\n    <tr>\n      <th>279</th>\n      <td>IA</td>\n      <td>Iowa</td>\n      <td>4,118</td>\n      <td>4,551</td>\n      <td>0</td>\n      <td>2012</td>\n    </tr>\n    <tr>\n      <th>331</th>\n      <td>ID</td>\n      <td>Idaho</td>\n      <td>212,560</td>\n      <td>420,750</td>\n      <td>0</td>\n      <td>2012</td>\n    </tr>\n    <tr>\n      <th>376</th>\n      <td>IL</td>\n      <td>Illinois</td>\n      <td>2,916,811</td>\n      <td>2,090,116</td>\n      <td>0</td>\n      <td>2012</td>\n    </tr>\n    <tr>\n      <th>479</th>\n      <td>IN</td>\n      <td>Indiana</td>\n      <td>1,140,425</td>\n      <td>1,412,620</td>\n      <td>0</td>\n      <td>2012</td>\n    </tr>\n    <tr>\n      <th>572</th>\n      <td>KS</td>\n      <td>Kansas</td>\n      <td>427,918</td>\n      <td>678,719</td>\n      <td>0</td>\n      <td>2012</td>\n    </tr>\n    <tr>\n      <th>678</th>\n      <td>KY</td>\n      <td>Kentucky</td>\n      <td>679,340</td>\n      <td>1,087,127</td>\n      <td>0</td>\n      <td>2012</td>\n    </tr>\n    <tr>\n      <th>799</th>\n      <td>LA</td>\n      <td>Louisiana</td>\n      <td>808,496</td>\n      <td>1,152,460</td>\n      <td>0</td>\n      <td>2012</td>\n    </tr>\n    <tr>\n      <th>864</th>\n      <td>MA</td>\n      <td>Massachusetts</td>\n      <td>1,901,276</td>\n      <td>1,178,245</td>\n      <td>0</td>\n      <td>2012</td>\n    </tr>\n    <tr>\n      <th>1216</th>\n      <td>MD</td>\n      <td>Maryland</td>\n      <td>1,527,686</td>\n      <td>904,970</td>\n      <td>0</td>\n      <td>2012</td>\n    </tr>\n    <tr>\n      <th>1241</th>\n      <td>ME</td>\n      <td>Maine</td>\n      <td>397,754</td>\n      <td>290,437</td>\n      <td>0</td>\n      <td>2012</td>\n    </tr>\n    <tr>\n      <th>1741</th>\n      <td>MI</td>\n      <td>Michigan</td>\n      <td>2,561,911</td>\n      <td>2,112,673</td>\n      <td>0</td>\n      <td>2012</td>\n    </tr>\n    <tr>\n      <th>1825</th>\n      <td>MN</td>\n      <td>Minnesota</td>\n      <td>1,547,668</td>\n      <td>1,321,575</td>\n      <td>0</td>\n      <td>2012</td>\n    </tr>\n    <tr>\n      <th>1913</th>\n      <td>MO</td>\n      <td>Missouri</td>\n      <td>1,215,031</td>\n      <td>1,478,961</td>\n      <td>0</td>\n      <td>2012</td>\n    </tr>\n    <tr>\n      <th>2029</th>\n      <td>MS</td>\n      <td>Mississippi</td>\n      <td>528,260</td>\n      <td>674,302</td>\n      <td>0</td>\n      <td>2012</td>\n    </tr>\n    <tr>\n      <th>2112</th>\n      <td>MT</td>\n      <td>Montana</td>\n      <td>200,489</td>\n      <td>264,974</td>\n      <td>0</td>\n      <td>2012</td>\n    </tr>\n    <tr>\n      <th>2169</th>\n      <td>NC</td>\n      <td>North Carolina</td>\n      <td>2,178,388</td>\n      <td>2,275,853</td>\n      <td>0</td>\n      <td>2012</td>\n    </tr>\n    <tr>\n      <th>2270</th>\n      <td>ND</td>\n      <td>North Dakota</td>\n      <td>124,490</td>\n      <td>187,586</td>\n      <td>0</td>\n      <td>2012</td>\n    </tr>\n    <tr>\n      <th>2324</th>\n      <td>NE</td>\n      <td>Nebraska</td>\n      <td>289,154</td>\n      <td>462,972</td>\n      <td>0</td>\n      <td>2012</td>\n    </tr>\n    <tr>\n      <th>2418</th>\n      <td>NH</td>\n      <td>New Hampshire</td>\n      <td>368,529</td>\n      <td>327,870</td>\n      <td>0</td>\n      <td>2012</td>\n    </tr>\n    <tr>\n      <th>2656</th>\n      <td>NJ</td>\n      <td>New Jersey</td>\n      <td>1,960,744</td>\n      <td>1,383,233</td>\n      <td>0</td>\n      <td>2012</td>\n    </tr>\n    <tr>\n      <th>2678</th>\n      <td>NM</td>\n      <td>New Mexico</td>\n      <td>408,312</td>\n      <td>331,915</td>\n      <td>0</td>\n      <td>2012</td>\n    </tr>\n    <tr>\n      <th>2712</th>\n      <td>NV</td>\n      <td>Nevada</td>\n      <td>528,801</td>\n      <td>462,422</td>\n      <td>0</td>\n      <td>2012</td>\n    </tr>\n    <tr>\n      <th>2730</th>\n      <td>NY</td>\n      <td>New York</td>\n      <td>3,875,826</td>\n      <td>2,226,637</td>\n      <td>0</td>\n      <td>2012</td>\n    </tr>\n    <tr>\n      <th>2793</th>\n      <td>OH</td>\n      <td>Ohio</td>\n      <td>2,697,260</td>\n      <td>2,593,779</td>\n      <td>0</td>\n      <td>2012</td>\n    </tr>\n    <tr>\n      <th>2882</th>\n      <td>OK</td>\n      <td>Oklahoma</td>\n      <td>442,647</td>\n      <td>889,372</td>\n      <td>0</td>\n      <td>2012</td>\n    </tr>\n    <tr>\n      <th>2937</th>\n      <td>OK</td>\n      <td>Oklahoma</td>\n      <td>106,812</td>\n      <td>149,525</td>\n      <td>0</td>\n      <td>2012</td>\n    </tr>\n    <tr>\n      <th>2960</th>\n      <td>OR</td>\n      <td>Oregon</td>\n      <td>932,459</td>\n      <td>732,288</td>\n      <td>0</td>\n      <td>2012</td>\n    </tr>\n    <tr>\n      <th>2997</th>\n      <td>PA</td>\n      <td>Pennsylvania</td>\n      <td>2,907,448</td>\n      <td>2,619,583</td>\n      <td>0</td>\n      <td>2012</td>\n    </tr>\n    <tr>\n      <th>3065</th>\n      <td>RI</td>\n      <td>Rhode Island</td>\n      <td>274,342</td>\n      <td>155,355</td>\n      <td>0</td>\n      <td>2012</td>\n    </tr>\n    <tr>\n      <th>3105</th>\n      <td>SD</td>\n      <td>South Dakota</td>\n      <td>144,988</td>\n      <td>210,541</td>\n      <td>0</td>\n      <td>2012</td>\n    </tr>\n    <tr>\n      <th>3172</th>\n      <td>TN</td>\n      <td>Tennessee</td>\n      <td>953,043</td>\n      <td>1,453,097</td>\n      <td>0</td>\n      <td>2012</td>\n    </tr>\n    <tr>\n      <th>3268</th>\n      <td>TX</td>\n      <td>Texas</td>\n      <td>3,294,440</td>\n      <td>4,555,799</td>\n      <td>0</td>\n      <td>2012</td>\n    </tr>\n    <tr>\n      <th>3523</th>\n      <td>VA</td>\n      <td>Virginia</td>\n      <td>1,905,528</td>\n      <td>1,789,618</td>\n      <td>0</td>\n      <td>2012</td>\n    </tr>\n    <tr>\n      <th>3658</th>\n      <td>VT</td>\n      <td>Vermont</td>\n      <td>199,259</td>\n      <td>92,700</td>\n      <td>0</td>\n      <td>2012</td>\n    </tr>\n    <tr>\n      <th>3905</th>\n      <td>WA</td>\n      <td>Washington</td>\n      <td>1,588,309</td>\n      <td>1,183,614</td>\n      <td>0</td>\n      <td>2012</td>\n    </tr>\n    <tr>\n      <th>3945</th>\n      <td>WI</td>\n      <td>Wisconsin</td>\n      <td>1,613,950</td>\n      <td>1,408,746</td>\n      <td>0</td>\n      <td>2012</td>\n    </tr>\n    <tr>\n      <th>4018</th>\n      <td>WV</td>\n      <td>West Virginia</td>\n      <td>234,925</td>\n      <td>412,406</td>\n      <td>0</td>\n      <td>2012</td>\n    </tr>\n  </tbody>\n</table>\n</div>"
     },
     "metadata": {},
     "execution_count": 150
    }
   ],
   "source": []
  },
  {
   "cell_type": "code",
   "execution_count": 236,
   "metadata": {},
   "outputs": [
    {
     "output_type": "execute_result",
     "data": {
      "text/plain": [
       "                   state   Democrat  Republican  year\n",
       "0                Alabama   793620.0   1252453.0  2012\n",
       "1                 Alaska    91696.0    121234.0  2012\n",
       "2                Arizona   900081.0   1107130.0  2012\n",
       "3               Arkansas   391953.0    643717.0  2012\n",
       "4             California  6241648.0   4046524.0  2012\n",
       "5               Delaware   242547.0    165476.0  2012\n",
       "6   District of Columbia   222332.0     17337.0  2012\n",
       "7                 Hawaii   349760.0    134035.0  4024\n",
       "8                  Idaho   212560.0    420750.0  2012\n",
       "9               Illinois  2916811.0   2090116.0  2012\n",
       "10               Indiana  1140425.0   1412620.0  2012\n",
       "11                  Iowa   820547.0    732479.0  4024\n",
       "12                Kansas   427918.0    678719.0  2012\n",
       "13              Kentucky   679340.0   1087127.0  2012\n",
       "14             Louisiana   808496.0   1152460.0  2012\n",
       "15                 Maine   397754.0    290437.0  2012\n",
       "16              Maryland  1527686.0    904970.0  2012\n",
       "17         Massachusetts  1901276.0   1178245.0  2012\n",
       "18              Michigan  2561911.0   2112673.0  2012\n",
       "19             Minnesota  1547668.0   1321575.0  2012\n",
       "20           Mississippi   528260.0    674302.0  2012\n",
       "21              Missouri  1215031.0   1478961.0  2012\n",
       "22               Montana   200489.0    264974.0  2012\n",
       "23              Nebraska   289154.0    462972.0  2012\n",
       "24                Nevada   528801.0    462422.0  2012\n",
       "25         New Hampshire   368529.0    327870.0  2012\n",
       "26            New Jersey  1960744.0   1383233.0  2012\n",
       "27            New Mexico   408312.0    331915.0  2012\n",
       "28              New York  3875826.0   2226637.0  2012\n",
       "29        North Carolina  2178388.0   2275853.0  2012\n",
       "30          North Dakota   124490.0    187586.0  2012\n",
       "31                  Ohio  2697260.0   2593779.0  2012\n",
       "32              Oklahoma   549459.0   1038897.0  4024\n",
       "33                Oregon   932459.0    732288.0  2012\n",
       "34          Pennsylvania  2907448.0   2619583.0  2012\n",
       "35          Rhode Island   274342.0    155355.0  2012\n",
       "36          South Dakota   144988.0    210541.0  2012\n",
       "37             Tennessee   953043.0   1453097.0  2012\n",
       "38                 Texas  3294440.0   4555799.0  2012\n",
       "39               Vermont   199259.0     92700.0  2012\n",
       "40              Virginia  1905528.0   1789618.0  2012\n",
       "41            Washington  1588309.0   1183614.0  2012\n",
       "42         West Virginia   234925.0    412406.0  2012\n",
       "43             Wisconsin  1613950.0   1408746.0  2012"
      ],
      "text/html": "<div>\n<style scoped>\n    .dataframe tbody tr th:only-of-type {\n        vertical-align: middle;\n    }\n\n    .dataframe tbody tr th {\n        vertical-align: top;\n    }\n\n    .dataframe thead th {\n        text-align: right;\n    }\n</style>\n<table border=\"1\" class=\"dataframe\">\n  <thead>\n    <tr style=\"text-align: right;\">\n      <th></th>\n      <th>state</th>\n      <th>Democrat</th>\n      <th>Republican</th>\n      <th>year</th>\n    </tr>\n  </thead>\n  <tbody>\n    <tr>\n      <th>0</th>\n      <td>Alabama</td>\n      <td>793620.0</td>\n      <td>1252453.0</td>\n      <td>2012</td>\n    </tr>\n    <tr>\n      <th>1</th>\n      <td>Alaska</td>\n      <td>91696.0</td>\n      <td>121234.0</td>\n      <td>2012</td>\n    </tr>\n    <tr>\n      <th>2</th>\n      <td>Arizona</td>\n      <td>900081.0</td>\n      <td>1107130.0</td>\n      <td>2012</td>\n    </tr>\n    <tr>\n      <th>3</th>\n      <td>Arkansas</td>\n      <td>391953.0</td>\n      <td>643717.0</td>\n      <td>2012</td>\n    </tr>\n    <tr>\n      <th>4</th>\n      <td>California</td>\n      <td>6241648.0</td>\n      <td>4046524.0</td>\n      <td>2012</td>\n    </tr>\n    <tr>\n      <th>5</th>\n      <td>Delaware</td>\n      <td>242547.0</td>\n      <td>165476.0</td>\n      <td>2012</td>\n    </tr>\n    <tr>\n      <th>6</th>\n      <td>District of Columbia</td>\n      <td>222332.0</td>\n      <td>17337.0</td>\n      <td>2012</td>\n    </tr>\n    <tr>\n      <th>7</th>\n      <td>Hawaii</td>\n      <td>349760.0</td>\n      <td>134035.0</td>\n      <td>4024</td>\n    </tr>\n    <tr>\n      <th>8</th>\n      <td>Idaho</td>\n      <td>212560.0</td>\n      <td>420750.0</td>\n      <td>2012</td>\n    </tr>\n    <tr>\n      <th>9</th>\n      <td>Illinois</td>\n      <td>2916811.0</td>\n      <td>2090116.0</td>\n      <td>2012</td>\n    </tr>\n    <tr>\n      <th>10</th>\n      <td>Indiana</td>\n      <td>1140425.0</td>\n      <td>1412620.0</td>\n      <td>2012</td>\n    </tr>\n    <tr>\n      <th>11</th>\n      <td>Iowa</td>\n      <td>820547.0</td>\n      <td>732479.0</td>\n      <td>4024</td>\n    </tr>\n    <tr>\n      <th>12</th>\n      <td>Kansas</td>\n      <td>427918.0</td>\n      <td>678719.0</td>\n      <td>2012</td>\n    </tr>\n    <tr>\n      <th>13</th>\n      <td>Kentucky</td>\n      <td>679340.0</td>\n      <td>1087127.0</td>\n      <td>2012</td>\n    </tr>\n    <tr>\n      <th>14</th>\n      <td>Louisiana</td>\n      <td>808496.0</td>\n      <td>1152460.0</td>\n      <td>2012</td>\n    </tr>\n    <tr>\n      <th>15</th>\n      <td>Maine</td>\n      <td>397754.0</td>\n      <td>290437.0</td>\n      <td>2012</td>\n    </tr>\n    <tr>\n      <th>16</th>\n      <td>Maryland</td>\n      <td>1527686.0</td>\n      <td>904970.0</td>\n      <td>2012</td>\n    </tr>\n    <tr>\n      <th>17</th>\n      <td>Massachusetts</td>\n      <td>1901276.0</td>\n      <td>1178245.0</td>\n      <td>2012</td>\n    </tr>\n    <tr>\n      <th>18</th>\n      <td>Michigan</td>\n      <td>2561911.0</td>\n      <td>2112673.0</td>\n      <td>2012</td>\n    </tr>\n    <tr>\n      <th>19</th>\n      <td>Minnesota</td>\n      <td>1547668.0</td>\n      <td>1321575.0</td>\n      <td>2012</td>\n    </tr>\n    <tr>\n      <th>20</th>\n      <td>Mississippi</td>\n      <td>528260.0</td>\n      <td>674302.0</td>\n      <td>2012</td>\n    </tr>\n    <tr>\n      <th>21</th>\n      <td>Missouri</td>\n      <td>1215031.0</td>\n      <td>1478961.0</td>\n      <td>2012</td>\n    </tr>\n    <tr>\n      <th>22</th>\n      <td>Montana</td>\n      <td>200489.0</td>\n      <td>264974.0</td>\n      <td>2012</td>\n    </tr>\n    <tr>\n      <th>23</th>\n      <td>Nebraska</td>\n      <td>289154.0</td>\n      <td>462972.0</td>\n      <td>2012</td>\n    </tr>\n    <tr>\n      <th>24</th>\n      <td>Nevada</td>\n      <td>528801.0</td>\n      <td>462422.0</td>\n      <td>2012</td>\n    </tr>\n    <tr>\n      <th>25</th>\n      <td>New Hampshire</td>\n      <td>368529.0</td>\n      <td>327870.0</td>\n      <td>2012</td>\n    </tr>\n    <tr>\n      <th>26</th>\n      <td>New Jersey</td>\n      <td>1960744.0</td>\n      <td>1383233.0</td>\n      <td>2012</td>\n    </tr>\n    <tr>\n      <th>27</th>\n      <td>New Mexico</td>\n      <td>408312.0</td>\n      <td>331915.0</td>\n      <td>2012</td>\n    </tr>\n    <tr>\n      <th>28</th>\n      <td>New York</td>\n      <td>3875826.0</td>\n      <td>2226637.0</td>\n      <td>2012</td>\n    </tr>\n    <tr>\n      <th>29</th>\n      <td>North Carolina</td>\n      <td>2178388.0</td>\n      <td>2275853.0</td>\n      <td>2012</td>\n    </tr>\n    <tr>\n      <th>30</th>\n      <td>North Dakota</td>\n      <td>124490.0</td>\n      <td>187586.0</td>\n      <td>2012</td>\n    </tr>\n    <tr>\n      <th>31</th>\n      <td>Ohio</td>\n      <td>2697260.0</td>\n      <td>2593779.0</td>\n      <td>2012</td>\n    </tr>\n    <tr>\n      <th>32</th>\n      <td>Oklahoma</td>\n      <td>549459.0</td>\n      <td>1038897.0</td>\n      <td>4024</td>\n    </tr>\n    <tr>\n      <th>33</th>\n      <td>Oregon</td>\n      <td>932459.0</td>\n      <td>732288.0</td>\n      <td>2012</td>\n    </tr>\n    <tr>\n      <th>34</th>\n      <td>Pennsylvania</td>\n      <td>2907448.0</td>\n      <td>2619583.0</td>\n      <td>2012</td>\n    </tr>\n    <tr>\n      <th>35</th>\n      <td>Rhode Island</td>\n      <td>274342.0</td>\n      <td>155355.0</td>\n      <td>2012</td>\n    </tr>\n    <tr>\n      <th>36</th>\n      <td>South Dakota</td>\n      <td>144988.0</td>\n      <td>210541.0</td>\n      <td>2012</td>\n    </tr>\n    <tr>\n      <th>37</th>\n      <td>Tennessee</td>\n      <td>953043.0</td>\n      <td>1453097.0</td>\n      <td>2012</td>\n    </tr>\n    <tr>\n      <th>38</th>\n      <td>Texas</td>\n      <td>3294440.0</td>\n      <td>4555799.0</td>\n      <td>2012</td>\n    </tr>\n    <tr>\n      <th>39</th>\n      <td>Vermont</td>\n      <td>199259.0</td>\n      <td>92700.0</td>\n      <td>2012</td>\n    </tr>\n    <tr>\n      <th>40</th>\n      <td>Virginia</td>\n      <td>1905528.0</td>\n      <td>1789618.0</td>\n      <td>2012</td>\n    </tr>\n    <tr>\n      <th>41</th>\n      <td>Washington</td>\n      <td>1588309.0</td>\n      <td>1183614.0</td>\n      <td>2012</td>\n    </tr>\n    <tr>\n      <th>42</th>\n      <td>West Virginia</td>\n      <td>234925.0</td>\n      <td>412406.0</td>\n      <td>2012</td>\n    </tr>\n    <tr>\n      <th>43</th>\n      <td>Wisconsin</td>\n      <td>1613950.0</td>\n      <td>1408746.0</td>\n      <td>2012</td>\n    </tr>\n  </tbody>\n</table>\n</div>"
     },
     "metadata": {},
     "execution_count": 236
    }
   ],
   "source": [
    "df1_clean = y.rename(columns={'County Name': 'state'})\n",
    "df1_clean=df1_clean.drop(['State Postal','FIPS'],axis='columns')\n",
    "df1_clean=df1_clean.reset_index()\n",
    "df1_clean=df1_clean.drop(['index'],axis='columns')\n",
    "\n",
    "df1_clean=df1_clean.groupby('state').sum().reset_index()\n",
    "df1_clean\n"
   ]
  },
  {
   "cell_type": "code",
   "execution_count": 250,
   "metadata": {},
   "outputs": [
    {
     "output_type": "execute_result",
     "data": {
      "text/plain": [
       "                   state   democrat  republican  year\n",
       "0                Alabama   793620.0   1252453.0  2012\n",
       "1                 Alaska    91696.0    121234.0  2012\n",
       "2                Arizona   900081.0   1107130.0  2012\n",
       "3               Arkansas   391953.0    643717.0  2012\n",
       "4             California  6241648.0   4046524.0  2012\n",
       "5               Delaware   242547.0    165476.0  2012\n",
       "6   District of Columbia   222332.0     17337.0  2012\n",
       "7                 Hawaii   349760.0    134035.0  4024\n",
       "8                  Idaho   212560.0    420750.0  2012\n",
       "9               Illinois  2916811.0   2090116.0  2012\n",
       "10               Indiana  1140425.0   1412620.0  2012\n",
       "11                  Iowa   820547.0    732479.0  4024\n",
       "12                Kansas   427918.0    678719.0  2012\n",
       "13              Kentucky   679340.0   1087127.0  2012\n",
       "14             Louisiana   808496.0   1152460.0  2012\n",
       "15                 Maine   397754.0    290437.0  2012\n",
       "16              Maryland  1527686.0    904970.0  2012\n",
       "17         Massachusetts  1901276.0   1178245.0  2012\n",
       "18              Michigan  2561911.0   2112673.0  2012\n",
       "19             Minnesota  1547668.0   1321575.0  2012\n",
       "20           Mississippi   528260.0    674302.0  2012\n",
       "21              Missouri  1215031.0   1478961.0  2012\n",
       "22               Montana   200489.0    264974.0  2012\n",
       "23              Nebraska   289154.0    462972.0  2012\n",
       "24                Nevada   528801.0    462422.0  2012\n",
       "25         New Hampshire   368529.0    327870.0  2012\n",
       "26            New Jersey  1960744.0   1383233.0  2012\n",
       "27            New Mexico   408312.0    331915.0  2012\n",
       "28              New York  3875826.0   2226637.0  2012\n",
       "29        North Carolina  2178388.0   2275853.0  2012\n",
       "30          North Dakota   124490.0    187586.0  2012\n",
       "31                  Ohio  2697260.0   2593779.0  2012\n",
       "32              Oklahoma   549459.0   1038897.0  4024\n",
       "33                Oregon   932459.0    732288.0  2012\n",
       "34          Pennsylvania  2907448.0   2619583.0  2012\n",
       "35          Rhode Island   274342.0    155355.0  2012\n",
       "36          South Dakota   144988.0    210541.0  2012\n",
       "37             Tennessee   953043.0   1453097.0  2012\n",
       "38                 Texas  3294440.0   4555799.0  2012\n",
       "39               Vermont   199259.0     92700.0  2012\n",
       "40              Virginia  1905528.0   1789618.0  2012\n",
       "41            Washington  1588309.0   1183614.0  2012\n",
       "42         West Virginia   234925.0    412406.0  2012\n",
       "43             Wisconsin  1613950.0   1408746.0  2012"
      ],
      "text/html": "<div>\n<style scoped>\n    .dataframe tbody tr th:only-of-type {\n        vertical-align: middle;\n    }\n\n    .dataframe tbody tr th {\n        vertical-align: top;\n    }\n\n    .dataframe thead th {\n        text-align: right;\n    }\n</style>\n<table border=\"1\" class=\"dataframe\">\n  <thead>\n    <tr style=\"text-align: right;\">\n      <th></th>\n      <th>state</th>\n      <th>democrat</th>\n      <th>republican</th>\n      <th>year</th>\n    </tr>\n  </thead>\n  <tbody>\n    <tr>\n      <th>0</th>\n      <td>Alabama</td>\n      <td>793620.0</td>\n      <td>1252453.0</td>\n      <td>2012</td>\n    </tr>\n    <tr>\n      <th>1</th>\n      <td>Alaska</td>\n      <td>91696.0</td>\n      <td>121234.0</td>\n      <td>2012</td>\n    </tr>\n    <tr>\n      <th>2</th>\n      <td>Arizona</td>\n      <td>900081.0</td>\n      <td>1107130.0</td>\n      <td>2012</td>\n    </tr>\n    <tr>\n      <th>3</th>\n      <td>Arkansas</td>\n      <td>391953.0</td>\n      <td>643717.0</td>\n      <td>2012</td>\n    </tr>\n    <tr>\n      <th>4</th>\n      <td>California</td>\n      <td>6241648.0</td>\n      <td>4046524.0</td>\n      <td>2012</td>\n    </tr>\n    <tr>\n      <th>5</th>\n      <td>Delaware</td>\n      <td>242547.0</td>\n      <td>165476.0</td>\n      <td>2012</td>\n    </tr>\n    <tr>\n      <th>6</th>\n      <td>District of Columbia</td>\n      <td>222332.0</td>\n      <td>17337.0</td>\n      <td>2012</td>\n    </tr>\n    <tr>\n      <th>7</th>\n      <td>Hawaii</td>\n      <td>349760.0</td>\n      <td>134035.0</td>\n      <td>4024</td>\n    </tr>\n    <tr>\n      <th>8</th>\n      <td>Idaho</td>\n      <td>212560.0</td>\n      <td>420750.0</td>\n      <td>2012</td>\n    </tr>\n    <tr>\n      <th>9</th>\n      <td>Illinois</td>\n      <td>2916811.0</td>\n      <td>2090116.0</td>\n      <td>2012</td>\n    </tr>\n    <tr>\n      <th>10</th>\n      <td>Indiana</td>\n      <td>1140425.0</td>\n      <td>1412620.0</td>\n      <td>2012</td>\n    </tr>\n    <tr>\n      <th>11</th>\n      <td>Iowa</td>\n      <td>820547.0</td>\n      <td>732479.0</td>\n      <td>4024</td>\n    </tr>\n    <tr>\n      <th>12</th>\n      <td>Kansas</td>\n      <td>427918.0</td>\n      <td>678719.0</td>\n      <td>2012</td>\n    </tr>\n    <tr>\n      <th>13</th>\n      <td>Kentucky</td>\n      <td>679340.0</td>\n      <td>1087127.0</td>\n      <td>2012</td>\n    </tr>\n    <tr>\n      <th>14</th>\n      <td>Louisiana</td>\n      <td>808496.0</td>\n      <td>1152460.0</td>\n      <td>2012</td>\n    </tr>\n    <tr>\n      <th>15</th>\n      <td>Maine</td>\n      <td>397754.0</td>\n      <td>290437.0</td>\n      <td>2012</td>\n    </tr>\n    <tr>\n      <th>16</th>\n      <td>Maryland</td>\n      <td>1527686.0</td>\n      <td>904970.0</td>\n      <td>2012</td>\n    </tr>\n    <tr>\n      <th>17</th>\n      <td>Massachusetts</td>\n      <td>1901276.0</td>\n      <td>1178245.0</td>\n      <td>2012</td>\n    </tr>\n    <tr>\n      <th>18</th>\n      <td>Michigan</td>\n      <td>2561911.0</td>\n      <td>2112673.0</td>\n      <td>2012</td>\n    </tr>\n    <tr>\n      <th>19</th>\n      <td>Minnesota</td>\n      <td>1547668.0</td>\n      <td>1321575.0</td>\n      <td>2012</td>\n    </tr>\n    <tr>\n      <th>20</th>\n      <td>Mississippi</td>\n      <td>528260.0</td>\n      <td>674302.0</td>\n      <td>2012</td>\n    </tr>\n    <tr>\n      <th>21</th>\n      <td>Missouri</td>\n      <td>1215031.0</td>\n      <td>1478961.0</td>\n      <td>2012</td>\n    </tr>\n    <tr>\n      <th>22</th>\n      <td>Montana</td>\n      <td>200489.0</td>\n      <td>264974.0</td>\n      <td>2012</td>\n    </tr>\n    <tr>\n      <th>23</th>\n      <td>Nebraska</td>\n      <td>289154.0</td>\n      <td>462972.0</td>\n      <td>2012</td>\n    </tr>\n    <tr>\n      <th>24</th>\n      <td>Nevada</td>\n      <td>528801.0</td>\n      <td>462422.0</td>\n      <td>2012</td>\n    </tr>\n    <tr>\n      <th>25</th>\n      <td>New Hampshire</td>\n      <td>368529.0</td>\n      <td>327870.0</td>\n      <td>2012</td>\n    </tr>\n    <tr>\n      <th>26</th>\n      <td>New Jersey</td>\n      <td>1960744.0</td>\n      <td>1383233.0</td>\n      <td>2012</td>\n    </tr>\n    <tr>\n      <th>27</th>\n      <td>New Mexico</td>\n      <td>408312.0</td>\n      <td>331915.0</td>\n      <td>2012</td>\n    </tr>\n    <tr>\n      <th>28</th>\n      <td>New York</td>\n      <td>3875826.0</td>\n      <td>2226637.0</td>\n      <td>2012</td>\n    </tr>\n    <tr>\n      <th>29</th>\n      <td>North Carolina</td>\n      <td>2178388.0</td>\n      <td>2275853.0</td>\n      <td>2012</td>\n    </tr>\n    <tr>\n      <th>30</th>\n      <td>North Dakota</td>\n      <td>124490.0</td>\n      <td>187586.0</td>\n      <td>2012</td>\n    </tr>\n    <tr>\n      <th>31</th>\n      <td>Ohio</td>\n      <td>2697260.0</td>\n      <td>2593779.0</td>\n      <td>2012</td>\n    </tr>\n    <tr>\n      <th>32</th>\n      <td>Oklahoma</td>\n      <td>549459.0</td>\n      <td>1038897.0</td>\n      <td>4024</td>\n    </tr>\n    <tr>\n      <th>33</th>\n      <td>Oregon</td>\n      <td>932459.0</td>\n      <td>732288.0</td>\n      <td>2012</td>\n    </tr>\n    <tr>\n      <th>34</th>\n      <td>Pennsylvania</td>\n      <td>2907448.0</td>\n      <td>2619583.0</td>\n      <td>2012</td>\n    </tr>\n    <tr>\n      <th>35</th>\n      <td>Rhode Island</td>\n      <td>274342.0</td>\n      <td>155355.0</td>\n      <td>2012</td>\n    </tr>\n    <tr>\n      <th>36</th>\n      <td>South Dakota</td>\n      <td>144988.0</td>\n      <td>210541.0</td>\n      <td>2012</td>\n    </tr>\n    <tr>\n      <th>37</th>\n      <td>Tennessee</td>\n      <td>953043.0</td>\n      <td>1453097.0</td>\n      <td>2012</td>\n    </tr>\n    <tr>\n      <th>38</th>\n      <td>Texas</td>\n      <td>3294440.0</td>\n      <td>4555799.0</td>\n      <td>2012</td>\n    </tr>\n    <tr>\n      <th>39</th>\n      <td>Vermont</td>\n      <td>199259.0</td>\n      <td>92700.0</td>\n      <td>2012</td>\n    </tr>\n    <tr>\n      <th>40</th>\n      <td>Virginia</td>\n      <td>1905528.0</td>\n      <td>1789618.0</td>\n      <td>2012</td>\n    </tr>\n    <tr>\n      <th>41</th>\n      <td>Washington</td>\n      <td>1588309.0</td>\n      <td>1183614.0</td>\n      <td>2012</td>\n    </tr>\n    <tr>\n      <th>42</th>\n      <td>West Virginia</td>\n      <td>234925.0</td>\n      <td>412406.0</td>\n      <td>2012</td>\n    </tr>\n    <tr>\n      <th>43</th>\n      <td>Wisconsin</td>\n      <td>1613950.0</td>\n      <td>1408746.0</td>\n      <td>2012</td>\n    </tr>\n  </tbody>\n</table>\n</div>"
     },
     "metadata": {},
     "execution_count": 250
    }
   ],
   "source": [
    "df1_clean = df1_clean.rename(columns={'Democrat': 'democrat', 'Republican': 'republican'})\n",
    "df1_clean"
   ]
  },
  {
   "cell_type": "code",
   "execution_count": 251,
   "metadata": {},
   "outputs": [],
   "source": [
    "df2_clean = df2_clean.rename(columns={'Democrat': 'democrat', 'Republican': 'republican'})"
   ]
  },
  {
   "cell_type": "code",
   "execution_count": 252,
   "metadata": {},
   "outputs": [],
   "source": [
    "rds_connection_string = \"postgres:300497@localhost:5432/us_elections\"\n",
    "engine = create_engine(f'postgresql://{rds_connection_string}')"
   ]
  },
  {
   "cell_type": "code",
   "execution_count": 253,
   "metadata": {},
   "outputs": [
    {
     "output_type": "execute_result",
     "data": {
      "text/plain": [
       "['elections_2012', 'elections_2016']"
      ]
     },
     "metadata": {},
     "execution_count": 253
    }
   ],
   "source": [
    "engine.table_names()"
   ]
  },
  {
   "cell_type": "code",
   "execution_count": 254,
   "metadata": {},
   "outputs": [],
   "source": [
    "df2_clean.to_sql(name='elections_2016', con=engine, if_exists='append', index=False)"
   ]
  },
  {
   "cell_type": "code",
   "execution_count": 256,
   "metadata": {},
   "outputs": [],
   "source": [
    "df1_clean.to_sql(name='elections_2012', con=engine, if_exists='append', index=False)"
   ]
  },
  {
   "cell_type": "code",
   "execution_count": 257,
   "metadata": {},
   "outputs": [
    {
     "output_type": "execute_result",
     "data": {
      "text/plain": [
       "        state  year  republican  democrat\n",
       "0     Alabama  2016     1318255    729547\n",
       "1      Alaska  2016      163387    116454\n",
       "2     Arizona  2016     1252401   1161209\n",
       "3    Arkansas  2016      684872    380494\n",
       "4  California  2016     4483810   8753788"
      ],
      "text/html": "<div>\n<style scoped>\n    .dataframe tbody tr th:only-of-type {\n        vertical-align: middle;\n    }\n\n    .dataframe tbody tr th {\n        vertical-align: top;\n    }\n\n    .dataframe thead th {\n        text-align: right;\n    }\n</style>\n<table border=\"1\" class=\"dataframe\">\n  <thead>\n    <tr style=\"text-align: right;\">\n      <th></th>\n      <th>state</th>\n      <th>year</th>\n      <th>republican</th>\n      <th>democrat</th>\n    </tr>\n  </thead>\n  <tbody>\n    <tr>\n      <th>0</th>\n      <td>Alabama</td>\n      <td>2016</td>\n      <td>1318255</td>\n      <td>729547</td>\n    </tr>\n    <tr>\n      <th>1</th>\n      <td>Alaska</td>\n      <td>2016</td>\n      <td>163387</td>\n      <td>116454</td>\n    </tr>\n    <tr>\n      <th>2</th>\n      <td>Arizona</td>\n      <td>2016</td>\n      <td>1252401</td>\n      <td>1161209</td>\n    </tr>\n    <tr>\n      <th>3</th>\n      <td>Arkansas</td>\n      <td>2016</td>\n      <td>684872</td>\n      <td>380494</td>\n    </tr>\n    <tr>\n      <th>4</th>\n      <td>California</td>\n      <td>2016</td>\n      <td>4483810</td>\n      <td>8753788</td>\n    </tr>\n  </tbody>\n</table>\n</div>"
     },
     "metadata": {},
     "execution_count": 257
    }
   ],
   "source": [
    "pd.read_sql_query('select * from elections_2016', con=engine).head()"
   ]
  },
  {
   "cell_type": "code",
   "execution_count": 258,
   "metadata": {},
   "outputs": [
    {
     "output_type": "execute_result",
     "data": {
      "text/plain": [
       "        state  democrat  republican  year\n",
       "0     Alabama    793620     1252453  2012\n",
       "1      Alaska     91696      121234  2012\n",
       "2     Arizona    900081     1107130  2012\n",
       "3    Arkansas    391953      643717  2012\n",
       "4  California   6241648     4046524  2012"
      ],
      "text/html": "<div>\n<style scoped>\n    .dataframe tbody tr th:only-of-type {\n        vertical-align: middle;\n    }\n\n    .dataframe tbody tr th {\n        vertical-align: top;\n    }\n\n    .dataframe thead th {\n        text-align: right;\n    }\n</style>\n<table border=\"1\" class=\"dataframe\">\n  <thead>\n    <tr style=\"text-align: right;\">\n      <th></th>\n      <th>state</th>\n      <th>democrat</th>\n      <th>republican</th>\n      <th>year</th>\n    </tr>\n  </thead>\n  <tbody>\n    <tr>\n      <th>0</th>\n      <td>Alabama</td>\n      <td>793620</td>\n      <td>1252453</td>\n      <td>2012</td>\n    </tr>\n    <tr>\n      <th>1</th>\n      <td>Alaska</td>\n      <td>91696</td>\n      <td>121234</td>\n      <td>2012</td>\n    </tr>\n    <tr>\n      <th>2</th>\n      <td>Arizona</td>\n      <td>900081</td>\n      <td>1107130</td>\n      <td>2012</td>\n    </tr>\n    <tr>\n      <th>3</th>\n      <td>Arkansas</td>\n      <td>391953</td>\n      <td>643717</td>\n      <td>2012</td>\n    </tr>\n    <tr>\n      <th>4</th>\n      <td>California</td>\n      <td>6241648</td>\n      <td>4046524</td>\n      <td>2012</td>\n    </tr>\n  </tbody>\n</table>\n</div>"
     },
     "metadata": {},
     "execution_count": 258
    }
   ],
   "source": [
    "pd.read_sql_query('select * from elections_2012', con=engine).head()"
   ]
  },
  {
   "cell_type": "code",
   "execution_count": null,
   "metadata": {},
   "outputs": [],
   "source": []
  },
  {
   "cell_type": "code",
   "execution_count": null,
   "metadata": {},
   "outputs": [],
   "source": []
  }
 ],
 "metadata": {
  "kernelspec": {
   "display_name": "Python 3",
   "language": "python",
   "name": "python3"
  },
  "language_info": {
   "codemirror_mode": {
    "name": "ipython",
    "version": 3
   },
   "file_extension": ".py",
   "mimetype": "text/x-python",
   "name": "python",
   "nbconvert_exporter": "python",
   "pygments_lexer": "ipython3",
   "version": "3.7.6-final"
  }
 },
 "nbformat": 4,
 "nbformat_minor": 4
}